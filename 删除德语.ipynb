{
 "cells": [
  {
   "cell_type": "code",
   "execution_count": 25,
   "id": "9c3a3bb5-76c2-46ce-823c-54e7a56d7670",
   "metadata": {},
   "outputs": [
    {
     "data": {
      "text/html": [
       "<div>\n",
       "<style scoped>\n",
       "    .dataframe tbody tr th:only-of-type {\n",
       "        vertical-align: middle;\n",
       "    }\n",
       "\n",
       "    .dataframe tbody tr th {\n",
       "        vertical-align: top;\n",
       "    }\n",
       "\n",
       "    .dataframe thead th {\n",
       "        text-align: right;\n",
       "    }\n",
       "</style>\n",
       "<table border=\"1\" class=\"dataframe\">\n",
       "  <thead>\n",
       "    <tr style=\"text-align: right;\">\n",
       "      <th></th>\n",
       "      <th>Zu welch’ hoher Bedeutung die Gasfeuerung auf dem Gebiete der Glasfabrikation bereits gelangt ist, erhellt wohl am treffendsten aus der Thatsache, dass statistischen Ermittelungen nach von den zu Ende des Jahres 1877 in Deutschland existirenden 600 Glasöfen nur noch 264 Oefen mit direkter Feuerung, mit Gasfeuerung aber bereits 336 versehen waren.</th>\n",
       "    </tr>\n",
       "  </thead>\n",
       "  <tbody>\n",
       "    <tr>\n",
       "      <th>0</th>\n",
       "      <td>Das zu wissenschaftlichen Zwecken benutzte Löt...</td>\n",
       "    </tr>\n",
       "    <tr>\n",
       "      <th>1</th>\n",
       "      <td>Während der Ursprung der Leuchtgasbereitung mi...</td>\n",
       "    </tr>\n",
       "    <tr>\n",
       "      <th>2</th>\n",
       "      <td>Die im vorigen Capitel beschriebenen Reactione...</td>\n",
       "    </tr>\n",
       "    <tr>\n",
       "      <th>3</th>\n",
       "      <td>Das Brennen von Erzeugnissen der Thonwaarenind...</td>\n",
       "    </tr>\n",
       "    <tr>\n",
       "      <th>4</th>\n",
       "      <td>Die ersten Versuche, die Gasfeuerung für Kalkö...</td>\n",
       "    </tr>\n",
       "    <tr>\n",
       "      <th>...</th>\n",
       "      <td>...</td>\n",
       "    </tr>\n",
       "    <tr>\n",
       "      <th>1456521</th>\n",
       "      <td>Abstract In this study, natural illite is intr...</td>\n",
       "    </tr>\n",
       "    <tr>\n",
       "      <th>1456522</th>\n",
       "      <td>Mittels der hergeleiteten Modelle und den Simu...</td>\n",
       "    </tr>\n",
       "    <tr>\n",
       "      <th>1456523</th>\n",
       "      <td>Abstract Modern trends in the development of c...</td>\n",
       "    </tr>\n",
       "    <tr>\n",
       "      <th>1456524</th>\n",
       "      <td>Broadband rectification of high-frequency elec...</td>\n",
       "    </tr>\n",
       "    <tr>\n",
       "      <th>1456525</th>\n",
       "      <td>Unsteady mixing is one of the methods increasi...</td>\n",
       "    </tr>\n",
       "  </tbody>\n",
       "</table>\n",
       "<p>1456526 rows × 1 columns</p>\n",
       "</div>"
      ],
      "text/plain": [
       "        Zu welch’ hoher Bedeutung die Gasfeuerung auf dem Gebiete der Glasfabrikation bereits gelangt ist, erhellt wohl am treffendsten aus der Thatsache, dass statistischen Ermittelungen nach von den zu Ende des Jahres 1877 in Deutschland existirenden 600 Glasöfen nur noch 264 Oefen mit direkter Feuerung, mit Gasfeuerung aber bereits 336 versehen waren.\n",
       "0        Das zu wissenschaftlichen Zwecken benutzte Löt...                                                                                                                                                                                                                                                                                                          \n",
       "1        Während der Ursprung der Leuchtgasbereitung mi...                                                                                                                                                                                                                                                                                                          \n",
       "2        Die im vorigen Capitel beschriebenen Reactione...                                                                                                                                                                                                                                                                                                          \n",
       "3        Das Brennen von Erzeugnissen der Thonwaarenind...                                                                                                                                                                                                                                                                                                          \n",
       "4        Die ersten Versuche, die Gasfeuerung für Kalkö...                                                                                                                                                                                                                                                                                                          \n",
       "...                                                    ...                                                                                                                                                                                                                                                                                                          \n",
       "1456521  Abstract In this study, natural illite is intr...                                                                                                                                                                                                                                                                                                          \n",
       "1456522  Mittels der hergeleiteten Modelle und den Simu...                                                                                                                                                                                                                                                                                                          \n",
       "1456523  Abstract Modern trends in the development of c...                                                                                                                                                                                                                                                                                                          \n",
       "1456524  Broadband rectification of high-frequency elec...                                                                                                                                                                                                                                                                                                          \n",
       "1456525  Unsteady mixing is one of the methods increasi...                                                                                                                                                                                                                                                                                                          \n",
       "\n",
       "[1456526 rows x 1 columns]"
      ]
     },
     "execution_count": 25,
     "metadata": {},
     "output_type": "execute_result"
    }
   ],
   "source": [
    "import pandas as pd\n",
    "\n",
    "test1 = pd.read_table(\"merged.txt\") # 这个是带有标题的文件\n",
    "test1"
   ]
  },
  {
   "cell_type": "code",
   "execution_count": null,
   "id": "1306e26a-d80e-4e30-969e-efc2c14ed7cf",
   "metadata": {},
   "outputs": [],
   "source": []
  },
  {
   "cell_type": "code",
   "execution_count": 24,
   "id": "032b7db5-ace8-4a2b-b84e-136d9750fdb4",
   "metadata": {},
   "outputs": [
    {
     "data": {
      "text/html": [
       "<div>\n",
       "<style scoped>\n",
       "    .dataframe tbody tr th:only-of-type {\n",
       "        vertical-align: middle;\n",
       "    }\n",
       "\n",
       "    .dataframe tbody tr th {\n",
       "        vertical-align: top;\n",
       "    }\n",
       "\n",
       "    .dataframe thead th {\n",
       "        text-align: right;\n",
       "    }\n",
       "</style>\n",
       "<table border=\"1\" class=\"dataframe\">\n",
       "  <thead>\n",
       "    <tr style=\"text-align: right;\">\n",
       "      <th></th>\n",
       "      <th>Zu welch’ hoher Bedeutung die Gasfeuerung auf dem Gebiete der Glasfabrikation bereits gelangt ist, erhellt wohl am treffendsten aus der Thatsache, dass statistischen Ermittelungen nach von den zu Ende des Jahres 1877 in Deutschland existirenden 600 Glasöfen nur noch 264 Oefen mit direkter Feuerung, mit Gasfeuerung aber bereits 336 versehen waren.</th>\n",
       "    </tr>\n",
       "  </thead>\n",
       "  <tbody>\n",
       "    <tr>\n",
       "      <th>0</th>\n",
       "      <td>Das zu wissenschaftlichen Zwecken benutzte Löt...</td>\n",
       "    </tr>\n",
       "    <tr>\n",
       "      <th>1</th>\n",
       "      <td>Während der Ursprung der Leuchtgasbereitung mi...</td>\n",
       "    </tr>\n",
       "    <tr>\n",
       "      <th>2</th>\n",
       "      <td>Die im vorigen Capitel beschriebenen Reactione...</td>\n",
       "    </tr>\n",
       "    <tr>\n",
       "      <th>3</th>\n",
       "      <td>Das Brennen von Erzeugnissen der Thonwaarenind...</td>\n",
       "    </tr>\n",
       "    <tr>\n",
       "      <th>4</th>\n",
       "      <td>Die ersten Versuche, die Gasfeuerung für Kalkö...</td>\n",
       "    </tr>\n",
       "    <tr>\n",
       "      <th>...</th>\n",
       "      <td>...</td>\n",
       "    </tr>\n",
       "    <tr>\n",
       "      <th>1456521</th>\n",
       "      <td>Abstract In this study, natural illite is intr...</td>\n",
       "    </tr>\n",
       "    <tr>\n",
       "      <th>1456522</th>\n",
       "      <td>Mittels der hergeleiteten Modelle und den Simu...</td>\n",
       "    </tr>\n",
       "    <tr>\n",
       "      <th>1456523</th>\n",
       "      <td>Abstract Modern trends in the development of c...</td>\n",
       "    </tr>\n",
       "    <tr>\n",
       "      <th>1456524</th>\n",
       "      <td>Broadband rectification of high-frequency elec...</td>\n",
       "    </tr>\n",
       "    <tr>\n",
       "      <th>1456525</th>\n",
       "      <td>Unsteady mixing is one of the methods increasi...</td>\n",
       "    </tr>\n",
       "  </tbody>\n",
       "</table>\n",
       "<p>1407990 rows × 1 columns</p>\n",
       "</div>"
      ],
      "text/plain": [
       "        Zu welch’ hoher Bedeutung die Gasfeuerung auf dem Gebiete der Glasfabrikation bereits gelangt ist, erhellt wohl am treffendsten aus der Thatsache, dass statistischen Ermittelungen nach von den zu Ende des Jahres 1877 in Deutschland existirenden 600 Glasöfen nur noch 264 Oefen mit direkter Feuerung, mit Gasfeuerung aber bereits 336 versehen waren.\n",
       "0        Das zu wissenschaftlichen Zwecken benutzte Löt...                                                                                                                                                                                                                                                                                                          \n",
       "1        Während der Ursprung der Leuchtgasbereitung mi...                                                                                                                                                                                                                                                                                                          \n",
       "2        Die im vorigen Capitel beschriebenen Reactione...                                                                                                                                                                                                                                                                                                          \n",
       "3        Das Brennen von Erzeugnissen der Thonwaarenind...                                                                                                                                                                                                                                                                                                          \n",
       "4        Die ersten Versuche, die Gasfeuerung für Kalkö...                                                                                                                                                                                                                                                                                                          \n",
       "...                                                    ...                                                                                                                                                                                                                                                                                                          \n",
       "1456521  Abstract In this study, natural illite is intr...                                                                                                                                                                                                                                                                                                          \n",
       "1456522  Mittels der hergeleiteten Modelle und den Simu...                                                                                                                                                                                                                                                                                                          \n",
       "1456523  Abstract Modern trends in the development of c...                                                                                                                                                                                                                                                                                                          \n",
       "1456524  Broadband rectification of high-frequency elec...                                                                                                                                                                                                                                                                                                          \n",
       "1456525  Unsteady mixing is one of the methods increasi...                                                                                                                                                                                                                                                                                                          \n",
       "\n",
       "[1407990 rows x 1 columns]"
      ]
     },
     "execution_count": 24,
     "metadata": {},
     "output_type": "execute_result"
    }
   ],
   "source": [
    "test2=test1.drop_duplicates()\n",
    "test2"
   ]
  },
  {
   "cell_type": "code",
   "execution_count": 49,
   "id": "1211d5c3-a09b-4b4c-993c-8a224e152c6f",
   "metadata": {},
   "outputs": [
    {
     "name": "stderr",
     "output_type": "stream",
     "text": [
      "/tmp/ipykernel_89673/2250373568.py:2: UserWarning: This pattern is interpreted as a regular expression, and has match groups. To actually get the groups, use str.extract.\n",
      "  test3 = test2[~test2.iloc[:, 0].astype(str).str.contains('(в|й|ä|é|Ö|ö|ß|Ä|ẞ|Ü|ü|ö)')]\n"
     ]
    }
   ],
   "source": [
    "# 使用 ~ 操作符取反，选择不包含特定字符的行\n",
    "test3 = test2[~test2.iloc[:, 0].astype(str).str.contains('(в|й|ä|é|Ö|ö|ß|Ä|ẞ|Ü|ü|ö|)')]\n",
    "# 将过滤后的数据保存到新的文件中\n",
    "test3.to_csv('filtered_file.csv', index=False)"
   ]
  },
  {
   "cell_type": "code",
   "execution_count": 81,
   "id": "9acf561c-d4e6-470f-b2a2-3b4ad0901c87",
   "metadata": {},
   "outputs": [
    {
     "name": "stderr",
     "output_type": "stream",
     "text": [
      "/tmp/ipykernel_89673/2379830926.py:1: UserWarning: This pattern is interpreted as a regular expression, and has match groups. To actually get the groups, use str.extract.\n",
      "  test4 = test3[~test3.iloc[:, 0].astype(str).str.contains('(é|É|è|ä|ö|ü|ü|ç|ê|î|ô|û|à|è|ì|ò|ù)')]\n"
     ]
    }
   ],
   "source": [
    "test4 = test3[~test3.iloc[:, 0].astype(str).str.contains('(é|É|è|ä|ö|ü|ü|ç|ê|î|ô|û|à|è|ì|ò|ù)')]"
   ]
  },
  {
   "cell_type": "code",
   "execution_count": 82,
   "id": "7be942db-3616-4a5b-80b9-9ef2d083940b",
   "metadata": {},
   "outputs": [
    {
     "data": {
      "text/html": [
       "<div>\n",
       "<style scoped>\n",
       "    .dataframe tbody tr th:only-of-type {\n",
       "        vertical-align: middle;\n",
       "    }\n",
       "\n",
       "    .dataframe tbody tr th {\n",
       "        vertical-align: top;\n",
       "    }\n",
       "\n",
       "    .dataframe thead th {\n",
       "        text-align: right;\n",
       "    }\n",
       "</style>\n",
       "<table border=\"1\" class=\"dataframe\">\n",
       "  <thead>\n",
       "    <tr style=\"text-align: right;\">\n",
       "      <th></th>\n",
       "      <th>Zu welch’ hoher Bedeutung die Gasfeuerung auf dem Gebiete der Glasfabrikation bereits gelangt ist, erhellt wohl am treffendsten aus der Thatsache, dass statistischen Ermittelungen nach von den zu Ende des Jahres 1877 in Deutschland existirenden 600 Glasöfen nur noch 264 Oefen mit direkter Feuerung, mit Gasfeuerung aber bereits 336 versehen waren.</th>\n",
       "    </tr>\n",
       "  </thead>\n",
       "  <tbody>\n",
       "    <tr>\n",
       "      <th>42</th>\n",
       "      <td>Vom Stickstoff sind bekannt ein Linienspektrum...</td>\n",
       "    </tr>\n",
       "    <tr>\n",
       "      <th>69</th>\n",
       "      <td>Ein Emissionsspektrum ist unbekannt.</td>\n",
       "    </tr>\n",
       "    <tr>\n",
       "      <th>73</th>\n",
       "      <td>Messungen fehlen.</td>\n",
       "    </tr>\n",
       "    <tr>\n",
       "      <th>132</th>\n",
       "      <td>Die Versuchsangaben finden sich in Tabelle 11.</td>\n",
       "    </tr>\n",
       "    <tr>\n",
       "      <th>170</th>\n",
       "      <td>Der Sago wird aus dem Mark oder dem centralen ...</td>\n",
       "    </tr>\n",
       "    <tr>\n",
       "      <th>...</th>\n",
       "      <td>...</td>\n",
       "    </tr>\n",
       "    <tr>\n",
       "      <th>1456520</th>\n",
       "      <td>The protein composition of wheat grain is a pr...</td>\n",
       "    </tr>\n",
       "    <tr>\n",
       "      <th>1456521</th>\n",
       "      <td>Abstract In this study, natural illite is intr...</td>\n",
       "    </tr>\n",
       "    <tr>\n",
       "      <th>1456523</th>\n",
       "      <td>Abstract Modern trends in the development of c...</td>\n",
       "    </tr>\n",
       "    <tr>\n",
       "      <th>1456524</th>\n",
       "      <td>Broadband rectification of high-frequency elec...</td>\n",
       "    </tr>\n",
       "    <tr>\n",
       "      <th>1456525</th>\n",
       "      <td>Unsteady mixing is one of the methods increasi...</td>\n",
       "    </tr>\n",
       "  </tbody>\n",
       "</table>\n",
       "<p>1188576 rows × 1 columns</p>\n",
       "</div>"
      ],
      "text/plain": [
       "        Zu welch’ hoher Bedeutung die Gasfeuerung auf dem Gebiete der Glasfabrikation bereits gelangt ist, erhellt wohl am treffendsten aus der Thatsache, dass statistischen Ermittelungen nach von den zu Ende des Jahres 1877 in Deutschland existirenden 600 Glasöfen nur noch 264 Oefen mit direkter Feuerung, mit Gasfeuerung aber bereits 336 versehen waren.\n",
       "42       Vom Stickstoff sind bekannt ein Linienspektrum...                                                                                                                                                                                                                                                                                                          \n",
       "69                    Ein Emissionsspektrum ist unbekannt.                                                                                                                                                                                                                                                                                                          \n",
       "73                                       Messungen fehlen.                                                                                                                                                                                                                                                                                                          \n",
       "132         Die Versuchsangaben finden sich in Tabelle 11.                                                                                                                                                                                                                                                                                                          \n",
       "170      Der Sago wird aus dem Mark oder dem centralen ...                                                                                                                                                                                                                                                                                                          \n",
       "...                                                    ...                                                                                                                                                                                                                                                                                                          \n",
       "1456520  The protein composition of wheat grain is a pr...                                                                                                                                                                                                                                                                                                          \n",
       "1456521  Abstract In this study, natural illite is intr...                                                                                                                                                                                                                                                                                                          \n",
       "1456523  Abstract Modern trends in the development of c...                                                                                                                                                                                                                                                                                                          \n",
       "1456524  Broadband rectification of high-frequency elec...                                                                                                                                                                                                                                                                                                          \n",
       "1456525  Unsteady mixing is one of the methods increasi...                                                                                                                                                                                                                                                                                                          \n",
       "\n",
       "[1188576 rows x 1 columns]"
      ]
     },
     "execution_count": 82,
     "metadata": {},
     "output_type": "execute_result"
    }
   ],
   "source": [
    "test4"
   ]
  },
  {
   "cell_type": "code",
   "execution_count": 130,
   "id": "c28a72c7-741b-41a0-9847-f01927b30af6",
   "metadata": {},
   "outputs": [
    {
     "data": {
      "text/html": [
       "<div>\n",
       "<style scoped>\n",
       "    .dataframe tbody tr th:only-of-type {\n",
       "        vertical-align: middle;\n",
       "    }\n",
       "\n",
       "    .dataframe tbody tr th {\n",
       "        vertical-align: top;\n",
       "    }\n",
       "\n",
       "    .dataframe thead th {\n",
       "        text-align: right;\n",
       "    }\n",
       "</style>\n",
       "<table border=\"1\" class=\"dataframe\">\n",
       "  <thead>\n",
       "    <tr style=\"text-align: right;\">\n",
       "      <th></th>\n",
       "      <th>Zu welch’ hoher Bedeutung die Gasfeuerung auf dem Gebiete der Glasfabrikation bereits gelangt ist, erhellt wohl am treffendsten aus der Thatsache, dass statistischen Ermittelungen nach von den zu Ende des Jahres 1877 in Deutschland existirenden 600 Glasöfen nur noch 264 Oefen mit direkter Feuerung, mit Gasfeuerung aber bereits 336 versehen waren.</th>\n",
       "    </tr>\n",
       "  </thead>\n",
       "  <tbody>\n",
       "    <tr>\n",
       "      <th>42</th>\n",
       "      <td>Vom Stickstoff sind bekannt ein Linienspektrum...</td>\n",
       "    </tr>\n",
       "    <tr>\n",
       "      <th>69</th>\n",
       "      <td>Ein Emissionsspektrum ist unbekannt.</td>\n",
       "    </tr>\n",
       "    <tr>\n",
       "      <th>73</th>\n",
       "      <td>Messungen fehlen.</td>\n",
       "    </tr>\n",
       "    <tr>\n",
       "      <th>132</th>\n",
       "      <td>Die Versuchsangaben finden sich in Tabelle 11.</td>\n",
       "    </tr>\n",
       "    <tr>\n",
       "      <th>170</th>\n",
       "      <td>Der Sago wird aus dem Mark oder dem centralen ...</td>\n",
       "    </tr>\n",
       "    <tr>\n",
       "      <th>...</th>\n",
       "      <td>...</td>\n",
       "    </tr>\n",
       "    <tr>\n",
       "      <th>1456520</th>\n",
       "      <td>The protein composition of wheat grain is a pr...</td>\n",
       "    </tr>\n",
       "    <tr>\n",
       "      <th>1456521</th>\n",
       "      <td>Abstract In this study, natural illite is intr...</td>\n",
       "    </tr>\n",
       "    <tr>\n",
       "      <th>1456523</th>\n",
       "      <td>Abstract Modern trends in the development of c...</td>\n",
       "    </tr>\n",
       "    <tr>\n",
       "      <th>1456524</th>\n",
       "      <td>Broadband rectification of high-frequency elec...</td>\n",
       "    </tr>\n",
       "    <tr>\n",
       "      <th>1456525</th>\n",
       "      <td>Unsteady mixing is one of the methods increasi...</td>\n",
       "    </tr>\n",
       "  </tbody>\n",
       "</table>\n",
       "<p>1185892 rows × 1 columns</p>\n",
       "</div>"
      ],
      "text/plain": [
       "        Zu welch’ hoher Bedeutung die Gasfeuerung auf dem Gebiete der Glasfabrikation bereits gelangt ist, erhellt wohl am treffendsten aus der Thatsache, dass statistischen Ermittelungen nach von den zu Ende des Jahres 1877 in Deutschland existirenden 600 Glasöfen nur noch 264 Oefen mit direkter Feuerung, mit Gasfeuerung aber bereits 336 versehen waren.\n",
       "42       Vom Stickstoff sind bekannt ein Linienspektrum...                                                                                                                                                                                                                                                                                                          \n",
       "69                    Ein Emissionsspektrum ist unbekannt.                                                                                                                                                                                                                                                                                                          \n",
       "73                                       Messungen fehlen.                                                                                                                                                                                                                                                                                                          \n",
       "132         Die Versuchsangaben finden sich in Tabelle 11.                                                                                                                                                                                                                                                                                                          \n",
       "170      Der Sago wird aus dem Mark oder dem centralen ...                                                                                                                                                                                                                                                                                                          \n",
       "...                                                    ...                                                                                                                                                                                                                                                                                                          \n",
       "1456520  The protein composition of wheat grain is a pr...                                                                                                                                                                                                                                                                                                          \n",
       "1456521  Abstract In this study, natural illite is intr...                                                                                                                                                                                                                                                                                                          \n",
       "1456523  Abstract Modern trends in the development of c...                                                                                                                                                                                                                                                                                                          \n",
       "1456524  Broadband rectification of high-frequency elec...                                                                                                                                                                                                                                                                                                          \n",
       "1456525  Unsteady mixing is one of the methods increasi...                                                                                                                                                                                                                                                                                                          \n",
       "\n",
       "[1185892 rows x 1 columns]"
      ]
     },
     "execution_count": 130,
     "metadata": {},
     "output_type": "execute_result"
    }
   ],
   "source": [
    "# 删除第一列包含字符 '1' 的行\n",
    "test5 = test4[~test4.iloc[:, 0].str.contains('ü|à|À|ó|Ó|ã|á|Ê|ê|Ú|ú|Õ|õ|Í|í|Á|á|Â|â|Ü|ü|Ô|ô|ù|ç|é|è|ê|ë|û|ï|à|â|ô|Ù|Д')]\n",
    "test5"
   ]
  },
  {
   "cell_type": "code",
   "execution_count": 131,
   "id": "8adb75de-f33e-4630-8f2b-dd8d81db4539",
   "metadata": {},
   "outputs": [
    {
     "name": "stdout",
     "output_type": "stream",
     "text": [
      "        Zu welch’ hoher Bedeutung die Gasfeuerung auf dem Gebiete der Glasfabrikation bereits gelangt ist, erhellt wohl am treffendsten aus der Thatsache, dass statistischen Ermittelungen nach von den zu Ende des Jahres 1877 in Deutschland existirenden 600 Glasöfen nur noch 264 Oefen mit direkter Feuerung, mit Gasfeuerung aber bereits 336 versehen waren.\n",
      "789160   The paper shows the possibility of reducing th...                                                                                                                                                                                                                                                                                                          \n",
      "1072689  The results of the measurements of the magneti...                                                                                                                                                                                                                                                                                                          \n",
      "1078209  The macrostructure of 10, 20, 09Γ2C, and дб st...                                                                                                                                                                                                                                                                                                          \n"
     ]
    }
   ],
   "source": [
    "# 打印包含 'ö' 字符的行\n",
    "print(test5[test5.iloc[:, 0].astype(str).str.contains('Д', case=False)])"
   ]
  },
  {
   "cell_type": "code",
   "execution_count": 133,
   "id": "0d11c7b4-b53d-4280-a88b-47bc9a56d730",
   "metadata": {},
   "outputs": [
    {
     "name": "stderr",
     "output_type": "stream",
     "text": [
      "/tmp/ipykernel_89673/971107701.py:2: SettingWithCopyWarning: \n",
      "A value is trying to be set on a copy of a slice from a DataFrame\n",
      "\n",
      "See the caveats in the documentation: https://pandas.pydata.org/pandas-docs/stable/user_guide/indexing.html#returning-a-view-versus-a-copy\n",
      "  test5.rename(columns={test5.columns[0]: 'abstract'}, inplace=True)\n"
     ]
    }
   ],
   "source": [
    "# 修改第一列的名称为\"abc\"\n",
    "test5.rename(columns={test5.columns[0]: 'abstract'}, inplace=True)"
   ]
  },
  {
   "cell_type": "code",
   "execution_count": 152,
   "id": "39053aa0-97e8-43a1-9f12-440d55794556",
   "metadata": {},
   "outputs": [
    {
     "data": {
      "text/html": [
       "<div>\n",
       "<style scoped>\n",
       "    .dataframe tbody tr th:only-of-type {\n",
       "        vertical-align: middle;\n",
       "    }\n",
       "\n",
       "    .dataframe tbody tr th {\n",
       "        vertical-align: top;\n",
       "    }\n",
       "\n",
       "    .dataframe thead th {\n",
       "        text-align: right;\n",
       "    }\n",
       "</style>\n",
       "<table border=\"1\" class=\"dataframe\">\n",
       "  <thead>\n",
       "    <tr style=\"text-align: right;\">\n",
       "      <th></th>\n",
       "      <th>abstract</th>\n",
       "    </tr>\n",
       "  </thead>\n",
       "  <tbody>\n",
       "    <tr>\n",
       "      <th>42</th>\n",
       "      <td>Vom Stickstoff sind bekannt ein Linienspektrum...</td>\n",
       "    </tr>\n",
       "    <tr>\n",
       "      <th>69</th>\n",
       "      <td>Ein Emissionsspektrum ist unbekannt.</td>\n",
       "    </tr>\n",
       "    <tr>\n",
       "      <th>73</th>\n",
       "      <td>Messungen fehlen.</td>\n",
       "    </tr>\n",
       "    <tr>\n",
       "      <th>132</th>\n",
       "      <td>Die Versuchsangaben finden sich in Tabelle 11.</td>\n",
       "    </tr>\n",
       "    <tr>\n",
       "      <th>170</th>\n",
       "      <td>Der Sago wird aus dem Mark oder dem centralen ...</td>\n",
       "    </tr>\n",
       "    <tr>\n",
       "      <th>...</th>\n",
       "      <td>...</td>\n",
       "    </tr>\n",
       "    <tr>\n",
       "      <th>1456520</th>\n",
       "      <td>The protein composition of wheat grain is a pr...</td>\n",
       "    </tr>\n",
       "    <tr>\n",
       "      <th>1456521</th>\n",
       "      <td>Abstract In this study, natural illite is intr...</td>\n",
       "    </tr>\n",
       "    <tr>\n",
       "      <th>1456523</th>\n",
       "      <td>Abstract Modern trends in the development of c...</td>\n",
       "    </tr>\n",
       "    <tr>\n",
       "      <th>1456524</th>\n",
       "      <td>Broadband rectification of high-frequency elec...</td>\n",
       "    </tr>\n",
       "    <tr>\n",
       "      <th>1456525</th>\n",
       "      <td>Unsteady mixing is one of the methods increasi...</td>\n",
       "    </tr>\n",
       "  </tbody>\n",
       "</table>\n",
       "<p>1185440 rows × 1 columns</p>\n",
       "</div>"
      ],
      "text/plain": [
       "                                                  abstract\n",
       "42       Vom Stickstoff sind bekannt ein Linienspektrum...\n",
       "69                    Ein Emissionsspektrum ist unbekannt.\n",
       "73                                       Messungen fehlen.\n",
       "132         Die Versuchsangaben finden sich in Tabelle 11.\n",
       "170      Der Sago wird aus dem Mark oder dem centralen ...\n",
       "...                                                    ...\n",
       "1456520  The protein composition of wheat grain is a pr...\n",
       "1456521  Abstract In this study, natural illite is intr...\n",
       "1456523  Abstract Modern trends in the development of c...\n",
       "1456524  Broadband rectification of high-frequency elec...\n",
       "1456525  Unsteady mixing is one of the methods increasi...\n",
       "\n",
       "[1185440 rows x 1 columns]"
      ]
     },
     "execution_count": 152,
     "metadata": {},
     "output_type": "execute_result"
    }
   ],
   "source": [
    "test6 = test5[~test5.iloc[:, 0].str.contains('Д|Б|Г|Д|Ё|Ж|И|Й|П|Ф|Ц|Ч|Ш|Щ|Ъ|Э|Ю|Я|д|ч')]\n",
    "test6"
   ]
  },
  {
   "cell_type": "code",
   "execution_count": 156,
   "id": "30e55606-db8b-44b8-8c5b-61089704910b",
   "metadata": {},
   "outputs": [
    {
     "name": "stdout",
     "output_type": "stream",
     "text": [
      "Empty DataFrame\n",
      "Columns: [abstract]\n",
      "Index: []\n"
     ]
    }
   ],
   "source": [
    "# 打印包含 'ö' 字符的行\n",
    "print(test6[test6.iloc[:, 0].astype(str).str.contains('и', case=False)])"
   ]
  },
  {
   "cell_type": "code",
   "execution_count": 157,
   "id": "54cadea6-f86d-4e8d-a0e9-6f41afa37409",
   "metadata": {},
   "outputs": [
    {
     "name": "stdout",
     "output_type": "stream",
     "text": [
      "abstract    Lap joining of 1-mm-thick Novelist AC 170 PX a...\n",
      "Name: 1239147, dtype: object\n"
     ]
    }
   ],
   "source": [
    "print(test6.iloc[977556])"
   ]
  },
  {
   "cell_type": "code",
   "execution_count": 155,
   "id": "6aeaac12-fac3-4843-803c-fedcc7ddae1b",
   "metadata": {},
   "outputs": [],
   "source": [
    "# 将数据保存为纯文本文件（txt）\n",
    "test6.to_csv('清洗后1185440.txt', index=False, header=False, sep='\\t')"
   ]
  },
  {
   "cell_type": "code",
   "execution_count": 151,
   "id": "44442ead-4f18-49ce-b804-03f2e379afdb",
   "metadata": {},
   "outputs": [],
   "source": [
    "# # 提取文本数据列\n",
    "# from langid.langid import LanguageIdentifier, model\n",
    "# # 创建语言识别器\n",
    "# identifier = LanguageIdentifier.from_modelstring(model, norm_probs=True)\n",
    "# text_column = test6['abstract']\n",
    "\n",
    "# # 存储语言结果的集合\n",
    "# languages = set()\n",
    "\n",
    "# # 进行语言识别\n",
    "# for text in text_column:\n",
    "#     language, _ = identifier.classify(text)\n",
    "#     languages.add(language)\n",
    "\n",
    "# # 输出结果\n",
    "# print(\"Number of languages found:\", len(languages))\n",
    "# print(\"Languages:\", languages)"
   ]
  },
  {
   "cell_type": "code",
   "execution_count": 61,
   "id": "c6e55734-cbf0-4954-8acf-d22110c5683a",
   "metadata": {},
   "outputs": [],
   "source": [
    "# # 进行过滤操作\n",
    "# test4 = test3[~test3.iloc[:, 0].astype(str).str.contains('(в|й|ä|é|Ö|ö|ß|Ä|ẞ|Ü|ü|ö)', regex=True, case=False, na=False)]\n",
    "\n",
    "# # 将过滤后的数据保存到新的文件中时指定字符集\n",
    "# test4.to_csv('test4.csv', index=False, encoding='utf-8')"
   ]
  },
  {
   "cell_type": "code",
   "execution_count": 62,
   "id": "6bcbee97-b3b9-402b-a088-60396c9940f7",
   "metadata": {},
   "outputs": [],
   "source": [
    "# print(test4.iloc[9])"
   ]
  },
  {
   "cell_type": "code",
   "execution_count": 63,
   "id": "11a5f920-d17d-49f1-aeaf-edd844b45336",
   "metadata": {},
   "outputs": [],
   "source": [
    "# # 打印包含 'ö' 字符的行\n",
    "# print(test4[test4.iloc[:, 0].astype(str).str.contains('ö', case=False)])"
   ]
  },
  {
   "cell_type": "code",
   "execution_count": 64,
   "id": "748a1dea-92b5-429e-82be-205575d85ecd",
   "metadata": {},
   "outputs": [],
   "source": [
    "# # 将数据保存为纯文本文件（txt）\n",
    "# test3.to_csv('清洗后120万.txt', index=False, header=False, sep='\\t')"
   ]
  },
  {
   "cell_type": "code",
   "execution_count": 65,
   "id": "6864e309-b9fe-4aad-8680-c72d9e187995",
   "metadata": {},
   "outputs": [],
   "source": [
    "# print(test3.iloc[9])"
   ]
  },
  {
   "cell_type": "code",
   "execution_count": null,
   "id": "7584f8b7-36c8-49c4-96b9-7703673d19d8",
   "metadata": {},
   "outputs": [],
   "source": []
  }
 ],
 "metadata": {
  "kernelspec": {
   "display_name": "Python 3 (ipykernel)",
   "language": "python",
   "name": "python3"
  },
  "language_info": {
   "codemirror_mode": {
    "name": "ipython",
    "version": 3
   },
   "file_extension": ".py",
   "mimetype": "text/x-python",
   "name": "python",
   "nbconvert_exporter": "python",
   "pygments_lexer": "ipython3",
   "version": "3.10.13"
  }
 },
 "nbformat": 4,
 "nbformat_minor": 5
}
